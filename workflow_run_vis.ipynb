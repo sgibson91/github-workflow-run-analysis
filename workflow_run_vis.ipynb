{
 "cells": [
  {
   "cell_type": "code",
   "execution_count": null,
   "metadata": {
    "tags": [],
    "trusted": true
   },
   "outputs": [],
   "source": [
    "import matplotlib.pyplot as plt\n",
    "import pandas as pd\n",
    "from ipywidgets import interact"
   ]
  },
  {
   "cell_type": "markdown",
   "metadata": {},
   "source": [
    "# Monthly Trigger Count of Workflows\n",
    "\n",
    "The below plot shows how many times per month each workflow was triggered, regardless of completion status (e.g., `success`, `failure`, etc.). The data begins on 2022-06-01 and extends to present day."
   ]
  },
  {
   "cell_type": "code",
   "execution_count": null,
   "metadata": {
    "tags": [],
    "trusted": true
   },
   "outputs": [],
   "source": [
    "monthly_df = pd.read_csv(\n",
    "    \"data/workflow_run_data_monthly_resample.csv\", index_col=\"run_time\"\n",
    ")\n",
    "monthly_df.index = pd.to_datetime(monthly_df.index)"
   ]
  },
  {
   "cell_type": "code",
   "execution_count": null,
   "metadata": {
    "tags": [],
    "trusted": true
   },
   "outputs": [],
   "source": [
    "monthly_options = [\"all\"] + sorted(monthly_df.columns.unique().tolist())"
   ]
  },
  {
   "cell_type": "code",
   "execution_count": null,
   "metadata": {
    "trusted": true
   },
   "outputs": [],
   "source": [
    "for workflow in monthly_options:\n",
    "    if workflow == \"all\":\n",
    "        continue\n",
    "    monthly_df[workflow] = monthly_df[workflow].astype(int)"
   ]
  },
  {
   "cell_type": "code",
   "execution_count": null,
   "metadata": {
    "tags": [],
    "trusted": true
   },
   "outputs": [],
   "source": [
    "@interact\n",
    "def view_workflow_runs(workflow=monthly_options):\n",
    "    if workflow == \"all\":\n",
    "        monthly_df.plot(kind=\"line\")\n",
    "        plt.legend(bbox_to_anchor=(1.0, 1.0))\n",
    "    else:\n",
    "        monthly_df[workflow].plot(kind=\"line\")\n",
    "\n",
    "    plt.xlabel(\"month\")\n",
    "    plt.ylabel(\"total run count\")"
   ]
  },
  {
   "cell_type": "markdown",
   "metadata": {},
   "source": [
    "# Daily Failure Rate of Workflows due to API Rate Limiting\n",
    "\n",
    "The below plot shows how many times per day each workflow failed and reported the message `API rate limit exceeded for installation ID` in it's logs. The data begins from 2023-06-12 to debias against the effects of [this Pull Request](https://github.com/2i2c-org/infrastructure/pull/2627)."
   ]
  },
  {
   "cell_type": "code",
   "execution_count": null,
   "metadata": {
    "tags": [],
    "trusted": true
   },
   "outputs": [],
   "source": [
    "daily_failed_df = pd.read_csv(\n",
    "    \"data/failed_workflow_run_data_daily_resample.csv\", index_col=\"run_time\"\n",
    ")\n",
    "daily_failed_df.index = pd.to_datetime(daily_failed_df.index)"
   ]
  },
  {
   "cell_type": "code",
   "execution_count": null,
   "metadata": {
    "tags": [],
    "trusted": true
   },
   "outputs": [],
   "source": [
    "failed_options = sorted(daily_failed_df.columns.unique().tolist())"
   ]
  },
  {
   "cell_type": "code",
   "execution_count": null,
   "metadata": {
    "trusted": true
   },
   "outputs": [],
   "source": [
    "for workflow in failed_options:\n",
    "    daily_failed_df[workflow] = daily_failed_df[workflow].astype(int)"
   ]
  },
  {
   "cell_type": "code",
   "execution_count": null,
   "metadata": {
    "tags": [],
    "trusted": true
   },
   "outputs": [],
   "source": [
    "@interact\n",
    "def view_failed_workflow_runs(workflow=failed_options):\n",
    "    daily_failed_df[workflow].plot(kind=\"bar\")\n",
    "\n",
    "    plt.xlabel(\"day\")\n",
    "    plt.ylabel(\"failed run count\")"
   ]
  }
 ],
 "metadata": {
  "kernelspec": {
   "display_name": "Python 3 (ipykernel)",
   "language": "python",
   "name": "python3"
  },
  "language_info": {
   "codemirror_mode": {
    "name": "ipython",
    "version": 3
   },
   "file_extension": ".py",
   "mimetype": "text/x-python",
   "name": "python",
   "nbconvert_exporter": "python",
   "pygments_lexer": "ipython3",
   "version": "3.10.11"
  }
 },
 "nbformat": 4,
 "nbformat_minor": 4
}
