{
 "metadata": {
  "language_info": {
   "name": "python",
   "version": "3.10.11",
   "mimetype": "text/x-python",
   "codemirror_mode": {
    "name": "ipython",
    "version": 3
   },
   "pygments_lexer": "ipython3",
   "nbconvert_exporter": "python",
   "file_extension": ".py"
  },
  "kernelspec": {
   "name": "python3",
   "display_name": "Python 3 (ipykernel)",
   "language": "python"
  }
 },
 "nbformat_minor": 4,
 "nbformat": 4,
 "cells": [
  {
   "cell_type": "code",
   "source": [
    "import matplotlib.pyplot as plt\n",
    "import pandas as pd\n",
    "from ipywidgets import interact"
   ],
   "metadata": {
    "tags": []
   },
   "execution_count": null,
   "outputs": []
  },
  {
   "cell_type": "markdown",
   "source": "# Monthly Trigger Count of Workflows\n\nThe below plot shows how many times per month each workflow was triggered, regardless of completion status (e.g., `success`, `failure`, etc.). The data begins on 2022-06-01 and extends to present day.",
   "metadata": {}
  },
  {
   "cell_type": "code",
   "source": [
    "monthly_df = pd.read_csv(\n",
    "    \"data/workflow_run_data_monthly_resample.csv\", index_col=\"run_time\"\n",
    ")\n",
    "monthly_df.index = pd.to_datetime(monthly_df.index)"
   ],
   "metadata": {
    "tags": []
   },
   "execution_count": null,
   "outputs": []
  },
  {
   "cell_type": "code",
   "source": [
    "monthly_options = [\"all\"] + sorted(monthly_df.columns.unique().tolist())"
   ],
   "metadata": {
    "tags": []
   },
   "execution_count": null,
   "outputs": []
  },
  {
   "cell_type": "code",
   "source": [
    "for workflow in monthly_options:\n",
    "    if workflow == \"all\":\n",
    "        continue\n",
    "    monthly_df[workflow] = monthly_df[workflow].astype(int)"
   ],
   "metadata": {},
   "execution_count": null,
   "outputs": []
  },
  {
   "cell_type": "code",
   "source": [
    "@interact\n",
    "def view_workflow_runs(workflow=monthly_options):\n",
    "    if workflow == \"all\":\n",
    "        monthly_df.plot(kind=\"line\")\n",
    "        plt.legend(bbox_to_anchor=(1.0, 1.0))\n",
    "    else:\n",
    "        monthly_df[workflow].plot(kind=\"line\")\n",
    "\n",
    "    plt.xlabel(\"month\")\n",
    "    plt.ylabel(\"total run count\")"
   ],
   "metadata": {
    "tags": []
   },
   "execution_count": null,
   "outputs": []
  },
  {
   "cell_type": "markdown",
   "source": "# Daily Failure Rate of Workflows due to API Rate Limiting\n\nThe below plot shows how many times per day each workflow failed and reported the message `API rate limit exceeded for installation ID` in it's logs. The data begins from 2023-06-12 to debias against the effects of [this Pull Request](https://github.com/2i2c-org/infrastructure/pull/2627).",
   "metadata": {}
  },
  {
   "cell_type": "code",
   "source": [
    "daily_failed_df = pd.read_csv(\n",
    "    \"data/failed_workflow_run_data_daily_resample.csv\", index_col=\"run_time\"\n",
    ")\n",
    "daily_failed_df.index = pd.to_datetime(daily_failed_df.index)"
   ],
   "metadata": {
    "tags": []
   },
   "execution_count": null,
   "outputs": []
  },
  {
   "cell_type": "code",
   "source": [
    "failed_options = sorted(daily_failed_df.columns.unique().tolist())"
   ],
   "metadata": {
    "tags": []
   },
   "execution_count": null,
   "outputs": []
  },
  {
   "cell_type": "code",
   "source": [
    "for workflow in failed_options:\n",
    "    daily_failed_df[workflow] = daily_failed_df[workflow].astype(int)"
   ],
   "metadata": {},
   "execution_count": null,
   "outputs": []
  },
  {
   "cell_type": "code",
   "source": [
    "@interact\n",
    "def view_failed_workflow_runs(workflow=failed_options):\n",
    "    daily_failed_df[workflow].plot(kind=\"bar\")\n",
    "\n",
    "    plt.xlabel(\"day\")\n",
    "    plt.ylabel(\"failed run count\")"
   ],
   "metadata": {
    "tags": []
   },
   "execution_count": null,
   "outputs": []
  }
 ]
}